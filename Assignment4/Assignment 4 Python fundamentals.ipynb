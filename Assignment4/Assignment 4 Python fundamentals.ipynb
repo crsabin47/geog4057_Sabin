{
 "cells": [
  {
   "cell_type": "markdown",
   "metadata": {},
   "source": [
    "# Assignment 4 Python fundamentals"
   ]
  },
  {
   "cell_type": "markdown",
   "metadata": {},
   "source": [
    "## Requirements: (10 pnts)\n",
    "- Add this notebook to ArcGIS Pro\n",
    "- for each of following questions, add and fill a code box with your answer, and run it to get the output\n",
    "- Upload the updated ipynb file as your assignment submission to Moodle for grading\n",
    "- 10 pnts go to on-time submissions "
   ]
  },
  {
   "cell_type": "markdown",
   "metadata": {},
   "source": [
    "### Q1 County name list (15 pnts)\n",
    "- Find out the five parishes in Louisiana with the most population (by Google or some other sources)\n",
    "- Create a *list* named *counties* with the five county names (2 pnts)\n",
    "- print the length of the list (3 pnts)\n",
    "- Use a *for loop* to print the county names one by one (10 pnts)\n"
   ]
  },
  {
   "cell_type": "code",
   "execution_count": 3,
   "metadata": {},
   "outputs": [
    {
     "name": "stdout",
     "output_type": "stream",
     "text": [
      "Top 5 most populous parishes in Louisiana\n",
      "['East Baton Rouge', 'Jefferson', 'Orleans', 'St. Tammany', 'Lafayette']\n",
      "East Baton Rouge\n",
      "Jefferson\n",
      "Orleans\n",
      "St. Tammany\n",
      "Lafayette\n"
     ]
    }
   ],
   "source": [
    "#creating a list of top 5 most populous parishes in Louisiana\n",
    "counties = ['East Baton Rouge', 'Jefferson', 'Orleans', 'St. Tammany', 'Lafayette']\n",
    "print(\"Top 5 most populous parishes in Louisiana\")\n",
    "print(counties)\n",
    "\n",
    "\n",
    "#Using a for loop to print the County names one-by-one\n",
    "\n",
    "for county in counties:\n",
    "    print(county)"
   ]
  },
  {
   "cell_type": "markdown",
   "metadata": {},
   "source": [
    "### Q2 County population dictionary (15 pnts)\n",
    "- Create a *dictionary* named *county_pop* with the five county names as keys and their population as values (2 pnts)\n",
    "- print the population of the county that has the largest population using the dict[key] operator (e.g. county_pop['countyname']) (3 pnts)\n",
    "- print the population of the county that has the least population (2 pnts)\n",
    "- Use a for loop to calculate the total population from the dictionary (hint, for county in county_pop: ... ) (10 pnts)"
   ]
  },
  {
   "cell_type": "code",
   "execution_count": 19,
   "metadata": {},
   "outputs": [
    {
     "name": "stdout",
     "output_type": "stream",
     "text": [
      "creating Dictionary:\n",
      "{'East Baton Rouge': '446843', 'Jefferson': '417524', 'Orleans': '358355', 'St. Tammany Parish': '277929', 'Lafayette': '251786'}\n",
      "Accessing East Baton Rouge Population value\n",
      "446843\n",
      "accessing Lafayette population value\n",
      "251786\n",
      "Total Population: 1752437\n"
     ]
    }
   ],
   "source": [
    "#Creating a Dictionary Named coounty_pop with the five county names as keys and their population as values\n",
    "county_pop = {'East Baton Rouge':'446843', 'Jefferson':'417524', 'Orleans':'358355', 'St. Tammany Parish':'277929', 'Lafayette':'251786'}\n",
    "print(\"creating Dictionary:\")\n",
    "print(county_pop)\n",
    "\n",
    "#finding the parish with largest population\n",
    "print(\"Accessing East Baton Rouge Population value\")\n",
    "print(county_pop['East Baton Rouge'])\n",
    "\n",
    "#finding the parish with smallest population\n",
    "print(\"accessing Lafayette population value\")\n",
    "print(county_pop['Lafayette'])\n",
    "\n",
    "#Using a for loop to calculate the total population from the dictionary\n",
    "#for county in county_pop:\n",
    "    #print({county_pop[county]})\n",
    "\n",
    "total_population = 0\n",
    "for county in county_pop:\n",
    "    total_population += int(county_pop[county])\n",
    "\n",
    "print(\"Total Population:\", total_population)\n",
    "\n",
    "    \n"
   ]
  },
  {
   "cell_type": "markdown",
   "metadata": {},
   "source": [
    "### Q3 string formatting (10 pnts)\n",
    "- Use the county_pop dictionary to print the county names and populations as the following formatted string: (10 pnts)\n",
    "county1 has a population of ###\n",
    "county2 has a population of ###\n",
    "...\n",
    "- You can choose to use a for loop or not"
   ]
  },
  {
   "cell_type": "code",
   "execution_count": 20,
   "metadata": {},
   "outputs": [
    {
     "name": "stdout",
     "output_type": "stream",
     "text": [
      "County East Baton Rouge has a population of 446843\n",
      "County Jefferson has a population of 417524\n",
      "County Orleans has a population of 358355\n",
      "County St. Tammany Parish has a population of 277929\n",
      "County Lafayette has a population of 251786\n"
     ]
    }
   ],
   "source": [
    "#Using the county_pop dictionary to print the county names and populations in a formatted string, by using a for loop.\n",
    "for county in county_pop:\n",
    "    print(f\"County {county} has a population of {county_pop[county]}\")"
   ]
  },
  {
   "cell_type": "markdown",
   "metadata": {},
   "source": [
    "### Q4 shape file names for each county (10 pnts)\n",
    "- Use the counties list as input\n",
    "- For each county, create the string for its shapefile name. For example, county1.shp, county2.shp (hint: use the + operator or the f-string feature) (10 pnts)\n",
    "- You can choose to use a for loop or not \n"
   ]
  },
  {
   "cell_type": "code",
   "execution_count": 62,
   "metadata": {},
   "outputs": [
    {
     "name": "stdout",
     "output_type": "stream",
     "text": [
      "East Baton Rouge.shp\n",
      "Jefferson.shp\n",
      "Orleans.shp\n",
      "St. Tammany.shp\n",
      "Lafayette.shp\n"
     ]
    }
   ],
   "source": [
    "#Using the f-string feature to create the string for shapefilename. Using the for loop\n",
    "    \n",
    "for county in counties:\n",
    "    print(f\"{county}.shp\")"
   ]
  },
  {
   "cell_type": "markdown",
   "metadata": {},
   "source": [
    "### Q5 create a full path name for each county (10 pnts)\n",
    "- Define a variable called *data_path* and store a string as a path name. For example, \"C:/data\" (5 pnts)\n",
    "- Use the os.path.join() function to create a full path name for each county. For example, \"C:/data/county1.shp\" (5 pnts)\n",
    "- Required: you have to use a for...loop on this question"
   ]
  },
  {
   "cell_type": "code",
   "execution_count": 68,
   "metadata": {},
   "outputs": [
    {
     "name": "stdout",
     "output_type": "stream",
     "text": [
      "C:/Users/crsab/OneDrive/Documents/Programming/geog4057_Sabin/Assignment4\\East_Baton_Rouge.shp\n",
      "C:/Users/crsab/OneDrive/Documents/Programming/geog4057_Sabin/Assignment4\\Jefferson.shp\n",
      "C:/Users/crsab/OneDrive/Documents/Programming/geog4057_Sabin/Assignment4\\Orleans.shp\n",
      "C:/Users/crsab/OneDrive/Documents/Programming/geog4057_Sabin/Assignment4\\St._Tammany.shp\n",
      "C:/Users/crsab/OneDrive/Documents/Programming/geog4057_Sabin/Assignment4\\Lafayette.shp\n"
     ]
    }
   ],
   "source": [
    "counties = ['East_Baton_Rouge', 'Jefferson', 'Orleans', 'St._Tammany', 'Lafayette']\n",
    "#Define a variable called data_Path and store a string as a path name. \n",
    "data_path = \"C:/Users/crsab/OneDrive/Documents/Programming/geog4057_Sabin/Assignment4\"\n",
    "#Use the os.path.join() function to create a full path name for each county.\n",
    "import os\n",
    "for county in counties:\n",
    "    shp_file_path = os.path.join(data_path, county + \".shp\")\n",
    "    print(shp_file_path)\n"
   ]
  },
  {
   "cell_type": "markdown",
   "metadata": {},
   "source": [
    "### Q6 Define a function (30 pnts)\n",
    "- Define a function called countPopulation (5 pnts)\n",
    "- Define the function's docstring using the triple quotes with following content:(5 pnts)\n",
    "  <q>Compute the total populatoin of the counties in the dictionary \n",
    "   GEOG 4057 GIS Programming</q>\n",
    "\n",
    "- Complete the fucntion so it can return the value of total population (10 pnts)\n",
    "- print the function's docstring using the dunder doc attribute (5 pnts)\n",
    "- Call the function from the code block to print the total population (5 pnts)"
   ]
  }
 ],
 "metadata": {
  "kernelspec": {
   "display_name": "ArcPyClone",
   "language": "python",
   "name": "arcpyclone"
  },
  "language_info": {
   "codemirror_mode": {
    "name": "ipython",
    "version": 3
   },
   "file_extension": ".py",
   "mimetype": "text/x-python",
   "name": "python",
   "nbconvert_exporter": "python",
   "pygments_lexer": "ipython3",
   "version": "3.12.5"
  },
  "orig_nbformat": 4
 },
 "nbformat": 4,
 "nbformat_minor": 2
}
