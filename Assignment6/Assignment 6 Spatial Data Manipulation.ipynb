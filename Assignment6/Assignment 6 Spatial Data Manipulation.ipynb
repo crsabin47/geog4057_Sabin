{
 "cells": [
  {
   "cell_type": "markdown",
   "metadata": {},
   "source": [
    "# Introduction\n",
    " In this assignment, you will do exercises on arcpy.Exists(), arcpy.Walk(), arcpy.da.Describe(), python list comprehension, arcpy.da.SearchCursor, and arcpy.da.InsertCursor(). In each section, a code block is provided but not ready to run. You need to add this notebook to ArcGIS Pro, modify each block to make it runable, keep the output message , and write an explanation of the code block. \n",
    "\n",
    " Data preparation: \n",
    " Use the same zip file from assignment 4 for this exercise. The zip file contains a geodatabase and a folder with shapefles. Download the data from the [data](../data) folder of the github website. Extract the zip file and use the geodatabase and the folder containing the shapefiles accordingly.  "
   ]
  },
  {
   "cell_type": "markdown",
   "metadata": {},
   "source": [
    "## First, let's use ArcToolbox tools to convert the csv to a feature class (10 pnts)\n",
    "\n",
    "- In ArcGIS Pro, search for \"XYTable to Point\"\n",
    "- In the dialog, put the \"point.csv\" from this folder as the input table\n",
    "- Name the output something like \"point_fromxy\"\n",
    "- Before, you run the model, in the Run button, click the small triangle and select \"Copy Python Command\"\n",
    "- Paste your python code below in the code block\n",
    "- Run the code block to make sure it works\n",
    "- Compare the python code and the ArcGIS Pro Geoprocessing pane dialog interface \n"
   ]
  },
  {
   "cell_type": "code",
   "execution_count": 1,
   "metadata": {},
   "outputs": [
    {
     "data": {
      "text/html": [
       "<div class='gpresult'><h2>Messages</h2><div id='messages'>Start Time: Thursday, October 24, 2024 12:58:44 PM<br>Succeeded at Thursday, October 24, 2024 12:58:45 PM (Elapsed Time: 0.61 seconds)<br></div><div id = 'default' /></div></div>"
      ],
      "text/plain": [
       "<Result 'C:\\\\Users\\\\crsab\\\\OneDrive\\\\Documents\\\\ArcGIS\\\\Projects\\\\Geog4057\\\\Geog4057.gdb\\\\points_fromXY'>"
      ]
     },
     "execution_count": 1,
     "metadata": {},
     "output_type": "execute_result"
    }
   ],
   "source": [
    "# To get the 10 points \n",
    "# Paste the python code from the above instruction here\n",
    "# make sure you start with import arcpy\n",
    "import arcpy\n",
    "arcpy.management.XYTableToPoint(\n",
    "    in_table=r\"C:\\Users\\crsab\\OneDrive\\Documents\\Programming\\geog4057_Sabin\\Assignment6\\points.csv\",\n",
    "    out_feature_class=r\"C:\\Users\\crsab\\OneDrive\\Documents\\ArcGIS\\Projects\\Geog4057\\Geog4057.gdb\\points_fromXY\",\n",
    "    x_field=\"X\",\n",
    "    y_field=\"Y\",\n",
    "    z_field=None,\n",
    "    coordinate_system='GEOGCS[\"GCS_WGS_1984\",DATUM[\"D_WGS_1984\",SPHEROID[\"WGS_1984\",6378137.0,298.257223563]],PRIMEM[\"Greenwich\",0.0],UNIT[\"Degree\",0.0174532925199433]];-400 -400 1000000000;-100000 10000;-100000 10000;8.98315284119521E-09;0.001;0.001;IsHighPrecision'\n",
    ")"
   ]
  },
  {
   "cell_type": "markdown",
   "metadata": {},
   "source": [
    "## Commentignt the example code:(20 pnts)\n",
    " - Using InsertCursor to do the same thing but project the geometry to a different spatial reference \n",
    "\n",
    "- The above code only imports the csv to a feature class but not converting from a GCS to a project coordinate system\n",
    "- We will use the following code to do the work and project the data to \"NAD 1983 USGS Contiguous USA Albers\" system with the WKID = 102039\n",
    "- Look the code up from here: https://epsg.io/102039"
   ]
  },
  {
   "cell_type": "code",
   "execution_count": 4,
   "metadata": {},
   "outputs": [
    {
     "ename": "ExecuteError",
     "evalue": "Failed to execute. Parameters are not valid.\nERROR 000732: Feature Class Location: Dataset C:\\Users\\crsab\\OneDrive\\Documents\\ArcGIS\\Projects\\Geog4057\\Geog4057.gdb\\points_fromXY does not exist or is not supported\nFailed to execute (CreateFeatureclass).\n",
     "output_type": "error",
     "traceback": [
      "\u001b[1;31m---------------------------------------------------------------------------\u001b[0m",
      "\u001b[1;31mExecuteError\u001b[0m                              Traceback (most recent call last)",
      "\u001b[1;32m~\\AppData\\Local\\Temp\\ipykernel_18872\\1673583446.py\u001b[0m in \u001b[0;36m<cell line: 0>\u001b[1;34m()\u001b[0m\n\u001b[0;32m     27\u001b[0m \u001b[1;31m# Create a new point feature class\u001b[0m\u001b[1;33m\u001b[0m\u001b[1;33m\u001b[0m\u001b[0m\n\u001b[0;32m     28\u001b[0m \u001b[1;33m\u001b[0m\u001b[0m\n\u001b[1;32m---> 29\u001b[1;33m \u001b[0marcpy\u001b[0m\u001b[1;33m.\u001b[0m\u001b[0mCreateFeatureclass_management\u001b[0m\u001b[1;33m(\u001b[0m\u001b[0mgeodatabase_path\u001b[0m\u001b[1;33m,\u001b[0m \u001b[0mfeature_class_name\u001b[0m\u001b[1;33m,\u001b[0m \u001b[1;34m\"POINT\"\u001b[0m\u001b[1;33m,\u001b[0m \u001b[0mspatial_reference\u001b[0m\u001b[1;33m=\u001b[0m\u001b[0msr_albsers\u001b[0m\u001b[1;33m)\u001b[0m\u001b[1;33m\u001b[0m\u001b[1;33m\u001b[0m\u001b[0m\n\u001b[0m\u001b[0;32m     30\u001b[0m \u001b[1;31m# Add fields to the feature class based on the CSV header\u001b[0m\u001b[1;33m\u001b[0m\u001b[1;33m\u001b[0m\u001b[0m\n\u001b[0;32m     31\u001b[0m \u001b[1;33m\u001b[0m\u001b[0m\n",
      "\u001b[1;32mC:\\Program Files\\ArcGIS\\Pro\\Resources\\ArcPy\\arcpy\\management.py\u001b[0m in \u001b[0;36mCreateFeatureclass\u001b[1;34m(out_path, out_name, geometry_type, template, has_m, has_z, spatial_reference, config_keyword, spatial_grid_1, spatial_grid_2, spatial_grid_3, out_alias, oid_type)\u001b[0m\n\u001b[0;32m   3625\u001b[0m         \u001b[1;32mreturn\u001b[0m \u001b[0mretval\u001b[0m\u001b[1;33m\u001b[0m\u001b[1;33m\u001b[0m\u001b[0m\n\u001b[0;32m   3626\u001b[0m     \u001b[1;32mexcept\u001b[0m \u001b[0mException\u001b[0m \u001b[1;32mas\u001b[0m \u001b[0me\u001b[0m\u001b[1;33m:\u001b[0m\u001b[1;33m\u001b[0m\u001b[1;33m\u001b[0m\u001b[0m\n\u001b[1;32m-> 3627\u001b[1;33m         \u001b[1;32mraise\u001b[0m \u001b[0me\u001b[0m\u001b[1;33m\u001b[0m\u001b[1;33m\u001b[0m\u001b[0m\n\u001b[0m\u001b[0;32m   3628\u001b[0m \u001b[1;33m\u001b[0m\u001b[0m\n\u001b[0;32m   3629\u001b[0m \u001b[1;33m@\u001b[0m\u001b[0mgptooldoc\u001b[0m\u001b[1;33m(\u001b[0m\u001b[1;34m'CreateUnRegisteredFeatureclass_management'\u001b[0m\u001b[1;33m,\u001b[0m \u001b[1;32mNone\u001b[0m\u001b[1;33m)\u001b[0m\u001b[1;33m\u001b[0m\u001b[1;33m\u001b[0m\u001b[0m\n",
      "\u001b[1;32mC:\\Program Files\\ArcGIS\\Pro\\Resources\\ArcPy\\arcpy\\management.py\u001b[0m in \u001b[0;36mCreateFeatureclass\u001b[1;34m(out_path, out_name, geometry_type, template, has_m, has_z, spatial_reference, config_keyword, spatial_grid_1, spatial_grid_2, spatial_grid_3, out_alias, oid_type)\u001b[0m\n\u001b[0;32m   3622\u001b[0m     \u001b[1;32mfrom\u001b[0m \u001b[0marcpy\u001b[0m\u001b[1;33m.\u001b[0m\u001b[0marcobjects\u001b[0m\u001b[1;33m.\u001b[0m\u001b[0marcobjectconversion\u001b[0m \u001b[1;32mimport\u001b[0m \u001b[0mconvertArcObjectToPythonObject\u001b[0m\u001b[1;33m\u001b[0m\u001b[1;33m\u001b[0m\u001b[0m\n\u001b[0;32m   3623\u001b[0m     \u001b[1;32mtry\u001b[0m\u001b[1;33m:\u001b[0m\u001b[1;33m\u001b[0m\u001b[1;33m\u001b[0m\u001b[0m\n\u001b[1;32m-> 3624\u001b[1;33m         \u001b[0mretval\u001b[0m \u001b[1;33m=\u001b[0m \u001b[0mconvertArcObjectToPythonObject\u001b[0m\u001b[1;33m(\u001b[0m\u001b[0mgp\u001b[0m\u001b[1;33m.\u001b[0m\u001b[0mCreateFeatureclass_management\u001b[0m\u001b[1;33m(\u001b[0m\u001b[1;33m*\u001b[0m\u001b[0mgp_fixargs\u001b[0m\u001b[1;33m(\u001b[0m\u001b[1;33m(\u001b[0m\u001b[0mout_path\u001b[0m\u001b[1;33m,\u001b[0m \u001b[0mout_name\u001b[0m\u001b[1;33m,\u001b[0m \u001b[0mgeometry_type\u001b[0m\u001b[1;33m,\u001b[0m \u001b[0mtemplate\u001b[0m\u001b[1;33m,\u001b[0m \u001b[0mhas_m\u001b[0m\u001b[1;33m,\u001b[0m \u001b[0mhas_z\u001b[0m\u001b[1;33m,\u001b[0m \u001b[0mspatial_reference\u001b[0m\u001b[1;33m,\u001b[0m \u001b[0mconfig_keyword\u001b[0m\u001b[1;33m,\u001b[0m \u001b[0mspatial_grid_1\u001b[0m\u001b[1;33m,\u001b[0m \u001b[0mspatial_grid_2\u001b[0m\u001b[1;33m,\u001b[0m \u001b[0mspatial_grid_3\u001b[0m\u001b[1;33m,\u001b[0m \u001b[0mout_alias\u001b[0m\u001b[1;33m,\u001b[0m \u001b[0moid_type\u001b[0m\u001b[1;33m)\u001b[0m\u001b[1;33m,\u001b[0m \u001b[1;32mTrue\u001b[0m\u001b[1;33m)\u001b[0m\u001b[1;33m)\u001b[0m\u001b[1;33m)\u001b[0m\u001b[1;33m\u001b[0m\u001b[1;33m\u001b[0m\u001b[0m\n\u001b[0m\u001b[0;32m   3625\u001b[0m         \u001b[1;32mreturn\u001b[0m \u001b[0mretval\u001b[0m\u001b[1;33m\u001b[0m\u001b[1;33m\u001b[0m\u001b[0m\n\u001b[0;32m   3626\u001b[0m     \u001b[1;32mexcept\u001b[0m \u001b[0mException\u001b[0m \u001b[1;32mas\u001b[0m \u001b[0me\u001b[0m\u001b[1;33m:\u001b[0m\u001b[1;33m\u001b[0m\u001b[1;33m\u001b[0m\u001b[0m\n",
      "\u001b[1;32mC:\\Program Files\\ArcGIS\\Pro\\Resources\\ArcPy\\arcpy\\geoprocessing\\_base.py\u001b[0m in \u001b[0;36m<lambda>\u001b[1;34m(*args)\u001b[0m\n\u001b[0;32m    510\u001b[0m         \u001b[0mval\u001b[0m \u001b[1;33m=\u001b[0m \u001b[0mgetattr\u001b[0m\u001b[1;33m(\u001b[0m\u001b[0mself\u001b[0m\u001b[1;33m.\u001b[0m\u001b[0m_gp\u001b[0m\u001b[1;33m,\u001b[0m \u001b[0mattr\u001b[0m\u001b[1;33m)\u001b[0m\u001b[1;33m\u001b[0m\u001b[1;33m\u001b[0m\u001b[0m\n\u001b[0;32m    511\u001b[0m         \u001b[1;32mif\u001b[0m \u001b[0mcallable\u001b[0m\u001b[1;33m(\u001b[0m\u001b[0mval\u001b[0m\u001b[1;33m)\u001b[0m\u001b[1;33m:\u001b[0m\u001b[1;33m\u001b[0m\u001b[1;33m\u001b[0m\u001b[0m\n\u001b[1;32m--> 512\u001b[1;33m             \u001b[1;32mreturn\u001b[0m \u001b[1;32mlambda\u001b[0m \u001b[1;33m*\u001b[0m\u001b[0margs\u001b[0m\u001b[1;33m:\u001b[0m \u001b[0mval\u001b[0m\u001b[1;33m(\u001b[0m\u001b[1;33m*\u001b[0m\u001b[0mgp_fixargs\u001b[0m\u001b[1;33m(\u001b[0m\u001b[0margs\u001b[0m\u001b[1;33m,\u001b[0m \u001b[1;32mTrue\u001b[0m\u001b[1;33m)\u001b[0m\u001b[1;33m)\u001b[0m\u001b[1;33m\u001b[0m\u001b[1;33m\u001b[0m\u001b[0m\n\u001b[0m\u001b[0;32m    513\u001b[0m         \u001b[1;32melse\u001b[0m\u001b[1;33m:\u001b[0m\u001b[1;33m\u001b[0m\u001b[1;33m\u001b[0m\u001b[0m\n\u001b[0;32m    514\u001b[0m             \u001b[1;32mreturn\u001b[0m \u001b[0mconvertArcObjectToPythonObject\u001b[0m\u001b[1;33m(\u001b[0m\u001b[0mval\u001b[0m\u001b[1;33m)\u001b[0m\u001b[1;33m\u001b[0m\u001b[1;33m\u001b[0m\u001b[0m\n",
      "\u001b[1;31mExecuteError\u001b[0m: Failed to execute. Parameters are not valid.\nERROR 000732: Feature Class Location: Dataset C:\\Users\\crsab\\OneDrive\\Documents\\ArcGIS\\Projects\\Geog4057\\Geog4057.gdb\\points_fromXY does not exist or is not supported\nFailed to execute (CreateFeatureclass).\n"
     ]
    }
   ],
   "source": [
    "import arcpy\n",
    "import csv\n",
    "import os\n",
    "\n",
    "# Edit the path names for your case\n",
    "csv_file_path = r\"C:\\Users\\crsab\\OneDrive\\Documents\\Programming\\geog4057_Sabin\\Assignment6\\points.csv\"\n",
    "geodatabase_path = r\"C:\\Users\\crsab\\OneDrive\\Documents\\ArcGIS\\Projects\\Geog4057\\Geog4057.gdb\\points_fromXY\"\n",
    "feature_class_name = \"point_albers\"\n",
    "\n",
    "# Determine the number of fields and field names from the CSV header\n",
    "with open(csv_file_path, 'r') as csv_file:\n",
    "    csv_reader = csv.reader(csv_file)\n",
    "    header = next(csv_reader)\n",
    "    num_fields = len(header)\n",
    "\n",
    "# Create SpatialReference objects: \n",
    "sr_gcs = arcpy.SpatialReference(4269) \n",
    "sr_albsers = arcpy.SpatialReference(102039)\n",
    "#delete if the feature class exists\n",
    "\n",
    "fcName = os.path.join(geodatabase_path,feature_class_name)\n",
    "\n",
    "if arcpy.Exists(fcName):\n",
    "    arcpy.management.Delete(fcName)\n",
    "\n",
    "\n",
    "# Create a new point feature class\n",
    "\n",
    "arcpy.CreateFeatureclass_management(geodatabase_path, feature_class_name, \"POINT\", spatial_reference=sr_albsers)\n",
    "# Add fields to the feature class based on the CSV header\n",
    "\n",
    "# first, read the exisint fields \n",
    "describe = arcpy.da.Describe(fcName)\n",
    "field_names = [field.name for field in describe[\"fields\"]]\n",
    "\n",
    "\n",
    "for field in header:\n",
    "    if field not in field_names:\n",
    "        arcpy.AddField_management(fcName, field, \"TEXT\")\n",
    "\n",
    "# Create a cursor for inserting point features with additional fields\n",
    "cursor_fields = [\"SHAPE@\"] + header\n",
    "with arcpy.da.InsertCursor(fcName, cursor_fields) as cursor:\n",
    "    # Read data from the CSV file and create point features with attributes\n",
    "    with open(csv_file_path, 'r') as csv_file:\n",
    "        csv_reader = csv.reader(csv_file)\n",
    "        \n",
    "        # Skip the header row (if present)\n",
    "        next(csv_reader, None)\n",
    "        \n",
    "        for table_value in csv_reader:\n",
    "            x = float(table_value[0]) # note that the first two fields in the csv must be longitude and latitude\n",
    "            y = float(table_value[1])\n",
    "            pnt = arcpy.PointGeometry(arcpy.Point(x,y),sr_gcs)\n",
    "            pnt_alberse = pnt.projectAs(sr_albsers)\n",
    "\n",
    "            row = (pnt_alberse,) + tuple(table_value)\n",
    "            cursor.insertRow(row)\n",
    "\n",
    "print(f\"New point feature class '{feature_class_name}' created in '{geodatabase_path}' with {num_fields} fields.\")\n",
    "\n"
   ]
  },
  {
   "cell_type": "markdown",
   "metadata": {},
   "source": [
    "**Edit this block to answer these three questions**\n",
    "\n",
    "Q1: Line by line, explain what was done in the code. (10 pnts)\n",
    "1. Lines (6-8)Establish paths for Data, GIS project geodatabase, and establish a feature class name\n",
    "2. Lines (11-14)Read the CSV file so that the user understands the number of fields\n",
    "3. Lines (17-18) Establish the spatial reference for the project \n",
    "4. Lines (21-24) adopt the spatial reference of the feature class\n",
    "5. Line (29) create a new feature class (point)\n",
    "6. Lines(33-34) List the fields that are in the attribute table of the feature class\n",
    "7. Lines(37-39) Add a field to the feature class named \"TEXT\"\n",
    "8. Lines(42-46) insert cursor to add a feature with attributes to feature class\n",
    "9. Lines(49) skip row if header or null data\n",
    "10. Lines(51-60)select features by attributes and print \n",
    "\n",
    "Q2: What do the cod 4269 and 102309 represent? (5 pnts)\n",
    "The cod 4269 represents the NAD83 GCS, where the 102039 is a NAD 1983 USGS Contiguous USA projection\n",
    "\n",
    "Q3: Explain what is SHAPE@ (5 pnts)\n",
    "A token that is used to access a features geometry and attributes"
   ]
  },
  {
   "cell_type": "markdown",
   "metadata": {},
   "source": [
    "## Use arcpy.Exist() (10 pnts)\n",
    "\n",
    "- This code checks the existence of a specified dataset within an ArcGIS workspace.\n",
    "- Fill the dataset_name and workspace_path variables with the database and the feature class name (points) from the last block\n",
    "- Print a message indicating whether the dataset exists or not."
   ]
  },
  {
   "cell_type": "code",
   "execution_count": 5,
   "metadata": {},
   "outputs": [
    {
     "name": "stdout",
     "output_type": "stream",
     "text": [
      "The dataset 'points' does not exist in the workspace.\n"
     ]
    }
   ],
   "source": [
    "import arcpy\n",
    "import os\n",
    "\n",
    "# Prompt for user input\n",
    "dataset_name = \"points\"\n",
    "workspace_path = \"Enter the workspace path: \"\n",
    "fullname = os.path.join(workspace_path,dataset_name)\n",
    "# Check if the dataset exists\n",
    "if arcpy.Exists(fullname):\n",
    "    print(f\"The dataset '{dataset_name}' exists in the workspace.\")\n",
    "else:\n",
    "    print(f\"The dataset '{dataset_name}' does not exist in the workspace.\")"
   ]
  },
  {
   "cell_type": "markdown",
   "metadata": {},
   "source": [
    "**Edit this block to answer the question**\n",
    "\n",
    "Q4: Line by line describe what was done by the code in the block above. (10 pnts) \n",
    "\n",
    "1.Lines(5-7)Establishing the workspace and dataset path.\n",
    "\n",
    "2.Lines(9-12)the if-else statement finds if there is an existing dataset in the workspace path "
   ]
  },
  {
   "cell_type": "markdown",
   "metadata": {},
   "source": [
    "## Use arcpy.Walk() (10 pnts)\n",
    "\n",
    "- This code uses arcpy.Walk() to iterate through all feature datasets in the geodatabase you just used.\n",
    "- Modify the name of \"workspace\" to make the code work\n",
    "- Run the code to list all the feature classes within each dataset.\n"
   ]
  },
  {
   "cell_type": "code",
   "execution_count": 6,
   "metadata": {},
   "outputs": [],
   "source": [
    "import arcpy\n",
    "\n",
    "# Define the workspace\n",
    "workspace = \"C:\\Users\\crsab\\OneDrive\\Documents\\ArcGIS\\Projects\\Geog4057\\Geog4057.gdb\" # note that you need to put a full path name for this workspace, even running it in ArcGIS Pro. \n",
    "\n",
    "# Use arcpy.Walk() to iterate through feature datasets\n",
    "for dirpath, dirnames, filenames in arcpy.da.Walk(workspace, datatype=\"FeatureClass\"):\n",
    "    for filename in filenames:\n",
    "        print(f\"Feature Class in {dirpath}: {filename}\")"
   ]
  },
  {
   "cell_type": "markdown",
   "metadata": {},
   "source": [
    "**Edit this block to answer the question**\n",
    "\n",
    "Q5: line by line, describe what was done by the code in the block above. (10 pnts)\n",
    "\n",
    "1. Line(4) defines the location of your geodatabase for the project\n",
    "2. Line(7-9)Looks iinto the subfolder of the geodatabase folder to different datasets finding the desired feature or dataset. \n",
    "\n",
    "\n",
    "\n"
   ]
  },
  {
   "cell_type": "markdown",
   "metadata": {},
   "source": [
    "## Use List Comprehension (10 pnts)\n",
    "\n",
    "- The following block uses list comprehension to generate a list of .shp files in a specified folder.\n",
    "- Choose the folder name from assignment 4 data/paris subfolder where many shapefiles are located and use it for folder_path\n",
    "- Run the code to print the list of file names\n",
    "\n",
    "\n",
    "- In the second block, the code combines the os.walk() function with the list comprehension to  list all shapefiles in a folder including subfolders\n",
    "\n"
   ]
  },
  {
   "cell_type": "code",
   "execution_count": 8,
   "metadata": {},
   "outputs": [
    {
     "name": "stdout",
     "output_type": "stream",
     "text": [
      "Shapefiles in the folder:\n",
      "Metro_Lines.shp\n",
      "Metro_LinesAOI.shp\n",
      "Metro_Stations.shp\n"
     ]
    }
   ],
   "source": [
    "import os\n",
    "\n",
    "# Specify the folder path\n",
    "folder_path = r\"C:\\Users\\crsab\\OneDrive\\Documents\\Programming\\geog4057_Sabin\\ModelBuilder_data\\ParisData\\ParisTransportation\\Metro\"\n",
    "\n",
    "# Use list comprehension to generate a list of .shp files\n",
    "shp_files = [file for file in os.listdir(folder_path) if file.endswith(\".shp\")]\n",
    "\n",
    "# Print the list of .shp files\n",
    "print(\"Shapefiles in the folder:\")\n",
    "for shp_file in shp_files:\n",
    "    print(shp_file)"
   ]
  },
  {
   "cell_type": "code",
   "execution_count": 9,
   "metadata": {},
   "outputs": [
    {
     "name": "stdout",
     "output_type": "stream",
     "text": [
      "Shapefiles in the folder:\n",
      "Metro_Lines.shp\n",
      "Metro_LinesAOI.shp\n",
      "Metro_Stations.shp\n"
     ]
    }
   ],
   "source": [
    "import os\n",
    "# Specify the folder path\n",
    "folder_path = r\"C:\\Users\\crsab\\OneDrive\\Documents\\Programming\\geog4057_Sabin\\ModelBuilder_data\\ParisData\\ParisTransportation\\Metro\"\n",
    "\n",
    "print(\"Shapefiles in the folder:\")\n",
    "for root, dirs, files in os.walk(folder_path):\n",
    "    shp_files = [file for file in files if file.endswith(\".shp\")]\n",
    "    for shp_file in shp_files:\n",
    "            print(shp_file)"
   ]
  },
  {
   "cell_type": "markdown",
   "metadata": {},
   "source": [
    "**Edit this block to answer the question**\n",
    "\n",
    "Q6: Describe what was done by the code in first blocks above. (5 pnts)\n",
    "\n",
    "this code made a list of all files ending in .shp\n",
    "\n",
    "Q7: Describe what was done by the code in second blocks above. (5 pnts)\n",
    "\n",
    "this code explored subfolders to return any files ending .shp"
   ]
  },
  {
   "cell_type": "markdown",
   "metadata": {},
   "source": [
    "## Use arcpy.da.SearchCursor (10 pnts)\n",
    "\n",
    "- This code uses arcpy.da.SearchCursor to extract attribute information from a feature class.\n",
    "- Enter the name of the \"points\" feature class and the field(s) from the feature class to extract.\n",
    "- Run and display the extracted data.\n"
   ]
  },
  {
   "cell_type": "code",
   "execution_count": 10,
   "metadata": {},
   "outputs": [
    {
     "name": "stdout",
     "output_type": "stream",
     "text": [
      "Extracted Data:\n",
      "[1, -118.2437, 34.0522, 10, 15, 20]\n",
      "[2, -73.935242, 40.73061, 8, 11, 14]\n",
      "[3, -95.369804, 29.760427, 12, 18, 22]\n",
      "[4, -121.886329, 37.338208, 6, 9, 12]\n",
      "[5, -87.629798, 41.878113, 15, 22, 28]\n",
      "[6, -97.743061, 30.267153, 11, 16, 21]\n",
      "[7, -122.419416, 37.774929, 9, 13, 17]\n",
      "[8, -118.242766, 34.052235, 14, 21, 26]\n",
      "[9, -71.05888, 42.360081, 7, 10, 13]\n",
      "[10, -81.69436, 41.499321, 12, 17, 22]\n"
     ]
    }
   ],
   "source": [
    "import arcpy\n",
    "\n",
    "# Prompt for user input\n",
    "fc_path = r\"C:\\Users\\crsab\\OneDrive\\Documents\\ArcGIS\\Projects\\Geog4057\\Geog4057.gdb\\points_fromXY\"\n",
    "fields_to_extract = [\"OBJECTID\", \"X\", \"Y\", \"Field1\", \"Field2\", \"Field3\"]\n",
    "\n",
    "# Use arcpy.da.SearchCursor to extract data\n",
    "with arcpy.da.SearchCursor(fc_path, fields_to_extract) as cursor:\n",
    "    print(\"Extracted Data:\")\n",
    "    for row in cursor:\n",
    "        print([row[i] for i in range(len(fields_to_extract))])"
   ]
  },
  {
   "cell_type": "markdown",
   "metadata": {},
   "source": [
    "**Edit this block to answer the question**\n",
    "\n",
    "Q8: Line by line, explain what was done in the code. 10 pnts \n",
    "\n",
    "1. Lines(4-5) establishing path to feature class and establishing which fields to extract\n",
    "\n",
    "2. Lines(8-11) search cursor finds records of data for the determined fields and print returns those records based on the user determined order"
   ]
  },
  {
   "cell_type": "markdown",
   "metadata": {},
   "source": [
    "## Use addField and field Calculator (20 pnts)\n",
    "\n",
    "- Run the following code block (with \"points\" feature class added to the last map before you switched into the notebook interface)"
   ]
  },
  {
   "cell_type": "code",
   "execution_count": 12,
   "metadata": {},
   "outputs": [
    {
     "data": {
      "text/html": [
       "<div class='gpresult'><h2>Messages</h2><div id='messages'>Start Time: Thursday, October 24, 2024 5:48:45 PM<br>Succeeded at Thursday, October 24, 2024 5:48:45 PM (Elapsed Time: 0.06 seconds)<br></div><div id = 'default' /></div></div>"
      ],
      "text/plain": [
       "<Result 'C:\\\\Users\\\\crsab\\\\OneDrive\\\\Documents\\\\ArcGIS\\\\Projects\\\\Geog4057\\\\Geog4057.gdb\\\\points_fromXY'>"
      ]
     },
     "execution_count": 12,
     "metadata": {},
     "output_type": "execute_result"
    }
   ],
   "source": [
    "import arcpy\n",
    "fc = r\"C:\\Users\\crsab\\OneDrive\\Documents\\ArcGIS\\Projects\\Geog4057\\Geog4057.gdb\\points_fromXY\"\n",
    "newfieldName = \"all\"\n",
    "arcpy.AddField_management(fc, newfieldName, \"DOUBLE\")\n",
    "expression = \"sum(!Field1!,!Field2!,!Field3!)\"\n",
    "codeblock = \"\"\"\n",
    "def sum(*fields):\n",
    "    sum = 0\n",
    "    for field in fields:\n",
    "        sum += field\n",
    "    return sum\n",
    "\"\"\"\n",
    "arcpy.CalculateField_management(fc, newfieldName, expression, \"\", codeblock)"
   ]
  },
  {
   "cell_type": "markdown",
   "metadata": {},
   "source": [
    "**Edit this block to answer the questions**\n",
    "\n",
    "Q9: line by line, describe what was done by the code in the block above. 10 pnts\n",
    "\n",
    "1. Lines(2) establish path to feature class\n",
    "\n",
    "2. Lines(3) define function newfieldname\n",
    "\n",
    "3. Lines(4) adding a new field to attribute table called \"all\" with parameter format \"double\"\n",
    "\n",
    "4. Lines(5) calculating sum of Field1 + Field2 + Field3 \n",
    "\n",
    "5. Lines(6-13) returning the value of the calculate to the new field \"all\" column\n",
    "\n",
    "Q10: Open the attribute table of \"points\" and check if the attribute table has a new filed \"all\" and correct values. Right-click the \"all\" field and click field calculator. Describe what you see in the field calculator interface. Compare the python code versus the field calculator interface. 10 pnts\n",
    "\n",
    "    1. The attribute table did add the new field \"all\" and the values are correct.  For example the value in row 1 for \"all\" is 45(which is the total sum of (Field1=10)+(Field2=15)+(Field3=20).  Right click on the \"all\" field to open the calculate field interface and you will find the tool to input commands.  Expression is \"all\" = with an empty dialog box.  User can double click the other fields and separate them with \"+\" to create an expression that yields the same result as code.\n",
    "         !Field1! + !Field2! + !Field3!"
   ]
  },
  {
   "cell_type": "markdown",
   "metadata": {},
   "source": [
    "## Submit the assignment ontime (10 pnts)\n",
    "\n",
    "- Late penalty is 10 points from here"
   ]
  }
 ],
 "metadata": {
  "kernelspec": {
   "display_name": "Python 3",
   "language": "python",
   "name": "python3"
  },
  "language_info": {
   "codemirror_mode": {
    "name": "ipython",
    "version": 3
   },
   "file_extension": ".py",
   "mimetype": "text/x-python",
   "name": "python",
   "nbconvert_exporter": "python",
   "pygments_lexer": "ipython3",
   "version": "3.11.8"
  }
 },
 "nbformat": 4,
 "nbformat_minor": 2
}
