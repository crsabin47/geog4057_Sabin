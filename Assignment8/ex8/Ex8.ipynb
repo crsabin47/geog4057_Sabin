{
 "cells": [
  {
   "cell_type": "code",
   "execution_count": 5,
   "metadata": {},
   "outputs": [
    {
     "name": "stdout",
     "output_type": "stream",
     "text": [
      "C:\\Users\\crsab\\OneDrive\\Documents\\Programming\\geog4057_Sabin\\Assignment8\\ex8\\Austin_Data.gdb\n"
     ]
    }
   ],
   "source": [
    "import arcpy\n",
    "import os\n",
    "pathname = r\"C:\\Users\\crsab\\OneDrive\\Documents\\Programming\\geog4057_Sabin\\Assignment8\\ex8\"\n",
    "aprx = arcpy.mp.ArcGISProject(os.path.join(pathname,\"Austin.aprx\"))\n",
    "print(aprx.defaultGeodatabase)\n",
    "aprx.saveACopy(os.path.join(pathname,'Austin_Copy.aprx'))\n"
   ]
  },
  {
   "cell_type": "markdown",
   "metadata": {},
   "source": [
    "The file size is different in the copy.  It is possible that the file size in the Austin_Copy.aprx file is smaller because it has a relative path to the original Austin.aprx file, and arcGISpro compresses parts of the project without effecting the function of the project when the copy is made."
   ]
  },
  {
   "cell_type": "code",
   "execution_count": 1,
   "metadata": {},
   "outputs": [
    {
     "name": "stdout",
     "output_type": "stream",
     "text": [
      "Downtown\n",
      "Foot_US\n",
      "Region\n",
      "Foot_US\n"
     ]
    }
   ],
   "source": [
    "aprx = arcpy.mp.ArcGISProject('CURRENT')\n",
    "maps = aprx.listMaps()\n",
    "for m in maps:\n",
    "    print(m.name)\n",
    "    print(m.mapUnits)\n",
    "del aprx"
   ]
  },
  {
   "cell_type": "markdown",
   "metadata": {},
   "source": [
    "In the last line of the code, the del function does not delete the object associated with \"aprx\", but it removes the \"aprx\" reference to the object."
   ]
  },
  {
   "cell_type": "code",
   "execution_count": 2,
   "metadata": {},
   "outputs": [
    {
     "name": "stdout",
     "output_type": "stream",
     "text": [
      "Map: Downtown\n",
      "trees\n",
      "parks\n",
      "base\n",
      "Topographic\n",
      "Map: Region\n",
      "facilities\n",
      "hospitals\n",
      "parks\n",
      "Topographic\n"
     ]
    }
   ],
   "source": [
    "aprx = arcpy.mp.ArcGISProject('CURRENT')\n",
    "maps = aprx.listMaps()\n",
    "for m in maps:\n",
    "    print(\"Map: \" + m.name)\n",
    "    lyrs = m.listLayers()\n",
    "    for lyr in lyrs:\n",
    "        print(lyr.name)\n",
    "del aprx"
   ]
  },
  {
   "cell_type": "code",
   "execution_count": 3,
   "metadata": {},
   "outputs": [],
   "source": [
    "aprx = arcpy.mp.ArcGISProject('CURRENT')\n",
    "m = aprx.listMaps(\"Downtown\")[0]\n",
    "m.addBasemap(\"Light Gray Canvas\")"
   ]
  },
  {
   "cell_type": "code",
   "execution_count": 4,
   "metadata": {},
   "outputs": [],
   "source": [
    "aprx = arcpy.mp.ArcGISProject(\"CURRENT\")\n",
    "m = aprx.listMaps(\"Downtown\")[0]\n",
    "lyr = m.listLayers(\"parks\")[0]\n",
    "sym = lyr.symbology\n",
    "green = {\"RGB\": [100, 175, 0, 100]}\n",
    "if lyr.isFeatureLayer and hasattr(sym, \"renderer\"):\n",
    "    sym.renderer.symbol.color = green\n",
    "    lyr.symbology = sym"
   ]
  },
  {
   "cell_type": "markdown",
   "metadata": {},
   "source": [
    "The \"green\" variable is a renderer to assign the color of the symbology to the feature layer.  The color is assigned by red(R)green(G)blue(B) values.  In this case, the r=100, g=175, and b=0. I assigned values of r=150, g=75, and b=0. This created a brown color to the parks layer.  I have confirmed that this works"
   ]
  },
  {
   "cell_type": "code",
   "execution_count": 5,
   "metadata": {},
   "outputs": [],
   "source": [
    "aprx = arcpy.mp.ArcGISProject(\"CURRENT\")\n",
    "m = aprx.listMaps(\"Downtown\")[0]\n",
    "lyr = m.listLayers(\"parks\")[0]\n",
    "sym = lyr.symbology\n",
    "brown = {\"RGB\": [150, 75, 0, 100]}\n",
    "if lyr.isFeatureLayer and hasattr(sym, \"renderer\"):\n",
    "    sym.renderer.symbol.color = brown\n",
    "    lyr.symbology = sym"
   ]
  },
  {
   "cell_type": "code",
   "execution_count": 8,
   "metadata": {},
   "outputs": [],
   "source": [
    "m = aprx.listMaps(\"Downtown\")[0]\n",
    "\n",
    "lyt = aprx.createLayout( 11,8.5, 'INCH', 'New Layout with Rectangles')\n",
    "\n",
    "def MakeRec_LL(llx, lly, w, h):\n",
    "    xyRecList = [[llx, lly], [llx, lly+h], [llx+w,lly+h], [llx+w,lly], [llx,lly]]\n",
    "    array = arcpy.Array([arcpy.Point(*coords) for coords in xyRecList])\n",
    "    rec = arcpy.Polygon(array)\n",
    "    return rec\n",
    "\n",
    "mf = lyt.createMapFrame(MakeRec_LL(0.5,0.5,10,7.5), m, \"New Map Frame\")"
   ]
  },
  {
   "cell_type": "markdown",
   "metadata": {},
   "source": [
    "The new layout created is 8.5\"x11\".  The New Map Frame is 10\"x7.5\""
   ]
  },
  {
   "cell_type": "code",
   "execution_count": 9,
   "metadata": {},
   "outputs": [],
   "source": [
    "#Create a north arrow\n",
    "naStyle = aprx.listStyleItems('ArcGIS 2D', 'North_Arrow', 'Compass North 1')[0]\n",
    "na = lyt.createMapSurroundElement(arcpy.Point(9.5,7.5), 'North_Arrow', mf,\n",
    "                                      naStyle, \"Compass North Arrow\")\n",
    "na.elementWidth = 0.5  \n",
    "\n",
    "#Create a scale bar\n",
    "sbName = 'Double Alternating Scale Bar 1 Metric'\n",
    "sbStyle = aprx.listStyleItems('ArcGIS 2D', 'Scale_bar', sbName)[0]\n",
    "sbEnv = MakeRec_LL(5.5, 0.1, 4, 0.5)\n",
    "sb = lyt.createMapSurroundElement(sbEnv, 'Scale_bar', mf, sbStyle, 'New Scale Bar')"
   ]
  },
  {
   "cell_type": "code",
   "execution_count": 11,
   "metadata": {},
   "outputs": [
    {
     "data": {
      "text/plain": [
       "'C:\\\\Users\\\\crsab\\\\OneDrive\\\\Documents\\\\Programming\\\\geog4057_Sabin\\\\Assignment8\\\\ex8\\\\downtown.pdf'"
      ]
     },
     "execution_count": 11,
     "metadata": {},
     "output_type": "execute_result"
    }
   ],
   "source": [
    "import arcpy\n",
    "import os\n",
    "pathname = r\"C:\\Users\\crsab\\OneDrive\\Documents\\Programming\\geog4057_Sabin\\Assignment8\\ex8\"\n",
    "lyt.exportToPDF(os.path.join(pathname, 'downtown.pdf'))"
   ]
  },
  {
   "cell_type": "code",
   "execution_count": null,
   "metadata": {},
   "outputs": [],
   "source": []
  }
 ],
 "metadata": {
  "kernelspec": {
   "display_name": "ArcClone",
   "language": "python",
   "name": "python3"
  },
  "language_info": {
   "file_extension": ".py",
   "name": "python",
   "version": "3.11.8"
  }
 },
 "nbformat": 4,
 "nbformat_minor": 2
}
